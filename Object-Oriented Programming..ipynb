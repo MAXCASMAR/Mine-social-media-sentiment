{
 "cells": [
  {
   "cell_type": "markdown",
   "metadata": {},
   "source": [
    "Objects."
   ]
  },
  {
   "cell_type": "markdown",
   "metadata": {},
   "source": [
    "We create objects through classes that we build. "
   ]
  },
  {
   "cell_type": "markdown",
   "metadata": {},
   "source": [
    "Creating and instantiating a class."
   ]
  },
  {
   "cell_type": "markdown",
   "metadata": {},
   "source": [
    "What is an object?"
   ]
  },
  {
   "cell_type": "markdown",
   "metadata": {},
   "source": [
    "All objects comre from a specific class. Those blueprints are known as classes."
   ]
  },
  {
   "cell_type": "markdown",
   "metadata": {},
   "source": [
    "OOP stages."
   ]
  },
  {
   "cell_type": "markdown",
   "metadata": {},
   "source": [
    "The first stage is the class definition, where you write the blueprint to be used when called. The second stage is instantiation, the process of creating an object from the class definition. After an object is instantiated, it is known as an in stance. You may have multiple instances. "
   ]
  },
  {
   "cell_type": "markdown",
   "metadata": {},
   "source": [
    "Creating a Class."
   ]
  },
  {
   "cell_type": "code",
   "execution_count": 1,
   "metadata": {},
   "outputs": [],
   "source": [
    "# creating your first class\n",
    "class Car():\n",
    "    pass # simply usgin as a placeholder until we add more code"
   ]
  },
  {
   "cell_type": "markdown",
   "metadata": {},
   "source": [
    "Note: Data types are also classes at their base."
   ]
  },
  {
   "cell_type": "markdown",
   "metadata": {},
   "source": [
    "Creating an instance."
   ]
  },
  {
   "cell_type": "code",
   "execution_count": 4,
   "metadata": {},
   "outputs": [
    {
     "name": "stdout",
     "output_type": "stream",
     "text": [
      "<__main__.Car object at 0x7fa12831e5b0>\n"
     ]
    }
   ],
   "source": [
    "# instantiating an object from a class\n",
    "class Car(): # parens are optional here:\n",
    "    pass\n",
    "ford = Car() # creates an instance of the Car class and stores into the variable ford\n",
    "print(ford)"
   ]
  },
  {
   "cell_type": "markdown",
   "metadata": {},
   "source": [
    "This is describing the class that the instance was built from and the location in memory. "
   ]
  },
  {
   "cell_type": "markdown",
   "metadata": {},
   "source": [
    "Creating multiple instances."
   ]
  },
  {
   "cell_type": "markdown",
   "metadata": {},
   "source": [
    "You can create as many instances as you want from each class. You store them in separate variables or data collections. "
   ]
  },
  {
   "cell_type": "code",
   "execution_count": 5,
   "metadata": {},
   "outputs": [
    {
     "name": "stdout",
     "output_type": "stream",
     "text": [
      "8770633801376\n",
      "8770633801382\n"
     ]
    }
   ],
   "source": [
    "# instantiating multiple objects from the same class\n",
    "class Car():\n",
    "    pass\n",
    "ford = Car()\n",
    "subaru = Car() # creates another object from the car class\n",
    "print(hash(ford)) \n",
    "print(hash(subaru)) # hash outputs a numerical representation of the location in memory for tha variable"
   ]
  },
  {
   "cell_type": "markdown",
   "metadata": {},
   "source": [
    "Although the two variables are created from the same source, they are stored as separate entities within the program. Each instance can have personal characteristics."
   ]
  },
  {
   "cell_type": "code",
   "execution_count": 9,
   "metadata": {},
   "outputs": [],
   "source": [
    "# Exercises\n",
    "# 1\n",
    "class Animal():\n",
    "    pass\n",
    "lion = Animal()\n",
    "tiger = Animal()\n",
    "# 2\n",
    "class Bus():\n",
    "    pass\n",
    "school_bus = Bus()"
   ]
  },
  {
   "cell_type": "markdown",
   "metadata": {},
   "source": [
    "Attributes."
   ]
  },
  {
   "cell_type": "markdown",
   "metadata": {},
   "source": [
    "How to give personalized features to classes and their instances. Attributes are variables defined within a class. An attribute is how we sotre personal information fro each object instance. "
   ]
  },
  {
   "cell_type": "markdown",
   "metadata": {},
   "source": [
    "Declaring and accessing attributes."
   ]
  },
  {
   "cell_type": "markdown",
   "metadata": {},
   "source": [
    "Attributes are only available within classes they are defined, so in order to access an attribute, you must create an instance."
   ]
  },
  {
   "cell_type": "code",
   "execution_count": 10,
   "metadata": {},
   "outputs": [
    {
     "name": "stdout",
     "output_type": "stream",
     "text": [
      "red\n"
     ]
    }
   ],
   "source": [
    "# how to define a class attribute\n",
    "class Car():\n",
    "    sound = \"beep\" # all car objects will have this sound attribute and its' value\n",
    "    color = \"red\" # all car objects will have this color attribute and its value\n",
    "ford = Car()\n",
    "print(ford.color) # known as 'dot syntax'"
   ]
  },
  {
   "cell_type": "markdown",
   "metadata": {},
   "source": [
    "In order to access an object's attribute, you use dot syntax. You start by writing the name of the instance, followed by a dot and the attribute you want to access. "
   ]
  },
  {
   "cell_type": "markdown",
   "metadata": {},
   "source": [
    "Changing an isntance attributes."
   ]
  },
  {
   "cell_type": "code",
   "execution_count": 12,
   "metadata": {},
   "outputs": [
    {
     "name": "stdout",
     "output_type": "stream",
     "text": [
      "beep\n",
      "honk\n"
     ]
    }
   ],
   "source": [
    "# changing the value of an attribute\n",
    "class Car():\n",
    "    sound = \"beep\"\n",
    "    color = \"red\"\n",
    "ford = Car()\n",
    "print(ford.sound) # will outpùt 'beep'\n",
    "ford.sound = \"honk\" # from now on the value of fords sound is honk, this does not affect other instances\n",
    "print(ford.sound) # will output honk"
   ]
  },
  {
   "cell_type": "markdown",
   "metadata": {},
   "source": [
    "Using the _init_() Method."
   ]
  },
  {
   "cell_type": "markdown",
   "metadata": {},
   "source": [
    "When you want to instantiate an object with specific properties, you need to use the initialization(init) method. Whenever an instance is created, the init method is called immediately. You can use this method to instantiate objects with different attribute values upon creation. This allows us to easily create class instances with personalized attributes. "
   ]
  },
  {
   "cell_type": "code",
   "execution_count": 14,
   "metadata": {},
   "outputs": [
    {
     "name": "stdout",
     "output_type": "stream",
     "text": [
      "blue\n"
     ]
    }
   ],
   "source": [
    "# using the init method to give instances personalized attributes upon creation\n",
    "class Car():\n",
    "    def __init__(self, color):\n",
    "        self.color = color # sets the attribute color to the value passed in\n",
    "ford = Car(\"blue\") # instantiating a Car class with the color blue\n",
    "print(ford.color)"
   ]
  },
  {
   "cell_type": "markdown",
   "metadata": {},
   "source": [
    "When we declare a variable to be instantiated, it passes the argument into the initialization method immediately. "
   ]
  },
  {
   "cell_type": "markdown",
   "metadata": {},
   "source": [
    "The \"self\" Keyword."
   ]
  },
  {
   "cell_type": "markdown",
   "metadata": {},
   "source": [
    "It is a reference to the current instance of the class and is used to access variables and methods associated with that instance. For example, the reason Python knew where to access this value, specifically for ford, is because we used the self keyword. When you want to instantiate an object with personalized attributes, you need to have the init method declared and use the self kwyword to save each attributes value."
   ]
  },
  {
   "cell_type": "markdown",
   "metadata": {},
   "source": [
    "Instantiating Multiple Objects with __init__()"
   ]
  },
  {
   "cell_type": "code",
   "execution_count": 15,
   "metadata": {},
   "outputs": [
    {
     "name": "stdout",
     "output_type": "stream",
     "text": [
      "blue 2016\n",
      "red 2018\n"
     ]
    }
   ],
   "source": [
    "# defining different values for multiple instances\n",
    "class Car():\n",
    "    def __init__(self, color, year):\n",
    "        self.color = color # sets the attribute color to the value passed in\n",
    "        self.year = year\n",
    "ford = Car(\"blue\", 2016)\n",
    "subaru = Car(\"red\", 2018)\n",
    "print(ford.color, ford.year)\n",
    "print(subaru.color, subaru.year)"
   ]
  },
  {
   "cell_type": "markdown",
   "metadata": {},
   "source": [
    "We are able to build different objects from the same source using just different lines, even if the class has thousands of lines. "
   ]
  },
  {
   "cell_type": "markdown",
   "metadata": {},
   "source": [
    "Global Attributes vs Instance Attributess"
   ]
  },
  {
   "cell_type": "markdown",
   "metadata": {},
   "source": [
    "Global attributes can be references by the class directly and all its instances, whereas instance attributes, which are defined within the init method, can only be accessed by the class instances. If an attribute is declared inside of a class, but not whithin the init method, then it is a global attribute. Any attributes declared within the init method using the selfkeyword are instance attributes."
   ]
  },
  {
   "cell_type": "code",
   "execution_count": 16,
   "metadata": {},
   "outputs": [
    {
     "name": "stdout",
     "output_type": "stream",
     "text": [
      "beep\n",
      "beep blue\n"
     ]
    }
   ],
   "source": [
    "# using and accessing global class attributes\n",
    "class Car():\n",
    "    sound = \"beep\" # global attribute, accessible through the class itself\n",
    "    def __init__(self, color):\n",
    "        self.color = \"blue\" # instance specific attribute, not accessible through the class itself\n",
    "print(Car.sound)\n",
    "# print(Car.color) won't work, as color is only available to instances of the Car class, not the class itself\n",
    "ford = Car(\"Blue\")\n",
    "print(ford.sound, ford.color) # color will work as this is an instance"
   ]
  },
  {
   "cell_type": "markdown",
   "metadata": {},
   "source": [
    "Only when attributes are declared in the init method are we able to give instances personal values upon instantiation. For example, in order to give ford a different value for the sound attribute, we would have to change it after its instantiation."
   ]
  },
  {
   "cell_type": "code",
   "execution_count": 19,
   "metadata": {},
   "outputs": [
    {
     "name": "stdout",
     "output_type": "stream",
     "text": [
      "¿Cuál es tu nombre?Maximiliano\n",
      "Maximiliano\n"
     ]
    }
   ],
   "source": [
    "# Exercises\n",
    "# 1\n",
    "class Dog():\n",
    "    species = \"Canine\"\n",
    "    def __init__(self, name, breed):\n",
    "        self.name = name\n",
    "        self.breed = breed\n",
    "dog1 = Dog(\"Sammi\", \"Husky\")\n",
    "dog2 = Dog(\"Casey\", \"Chocolate Lab\")\n",
    "# 2\n",
    "class Person():\n",
    "    def __init__(self, name):\n",
    "        self.name = name\n",
    "person_name = input(\"¿Cuál es tu nombre? \")\n",
    "maxi = Person(person_name)\n",
    "print(maxi.name)"
   ]
  },
  {
   "cell_type": "markdown",
   "metadata": {},
   "source": [
    "Methods."
   ]
  },
  {
   "cell_type": "markdown",
   "metadata": {},
   "source": [
    "Methods are functions that are within classes."
   ]
  },
  {
   "cell_type": "markdown",
   "metadata": {},
   "source": [
    "Defining and calling a method."
   ]
  },
  {
   "cell_type": "markdown",
   "metadata": {},
   "source": [
    "When declaring a method that you intend to access through instances, you must use the self parameter in the definition. Without the self keyword, the method can only be accessed by the class itself. In order to call a method, use dot syntax, with parenthesis after the name of the instance."
   ]
  },
  {
   "cell_type": "code",
   "execution_count": 21,
   "metadata": {},
   "outputs": [
    {
     "name": "stdout",
     "output_type": "stream",
     "text": [
      "bark\n"
     ]
    }
   ],
   "source": [
    "# defining and calling our first class method\n",
    "class Dog():\n",
    "    def makeSound(self):\n",
    "        print(\"bark\")\n",
    "sam = Dog()\n",
    "sam.makeSound()"
   ]
  },
  {
   "cell_type": "markdown",
   "metadata": {},
   "source": [
    "Accessing class atributes in methods."
   ]
  },
  {
   "cell_type": "markdown",
   "metadata": {},
   "source": [
    "You need to use the self keyword in order to access the attribute. self is in reference to the instance accessing the class, even for the global ones."
   ]
  },
  {
   "cell_type": "code",
   "execution_count": 22,
   "metadata": {},
   "outputs": [
    {
     "name": "stdout",
     "output_type": "stream",
     "text": [
      "bark\n"
     ]
    }
   ],
   "source": [
    "# using the self keyword to access attributes within class methods\n",
    "class Dog():\n",
    "    sound = \"bark\"\n",
    "    def makeSound(self):\n",
    "        print(self.sound) # self required to access attributes defined in the class\n",
    "sam = Dog()\n",
    "sam.makeSound()"
   ]
  },
  {
   "cell_type": "markdown",
   "metadata": {},
   "source": [
    "Method scope."
   ]
  },
  {
   "cell_type": "markdown",
   "metadata": {},
   "source": [
    "You may have methods that are accessible through the class itself rather than an instance of the class, the static methods. They are not accessible by instances of the class. It may help to have a method that is only accessible through the class and not the instances. "
   ]
  },
  {
   "cell_type": "code",
   "execution_count": 23,
   "metadata": {},
   "outputs": [
    {
     "name": "stdout",
     "output_type": "stream",
     "text": [
      "I am a dog.\n",
      "bark\n"
     ]
    }
   ],
   "source": [
    "# understanding which methods are accessible via the class itself and class instances\n",
    "class Dog():\n",
    "    sound = \"bark\"\n",
    "    def makeSound(self):\n",
    "        print(self.sound)\n",
    "    def printInfo():\n",
    "        print(\"I am a dog.\")\n",
    "Dog.printInfo() # able to run printInfo method because it does not include self parameter\n",
    "# Dog.makeSound() would produce error, self is in refrence to instances only\n",
    "sam = Dog()\n",
    "sam.makeSound() # able to access, self can reference the instance of sam\n",
    "# sam.printInfo() will produce errro, instnaces require the self parameter to access methods"
   ]
  },
  {
   "cell_type": "markdown",
   "metadata": {},
   "source": [
    "Passing arguments into methods."
   ]
  },
  {
   "cell_type": "markdown",
   "metadata": {},
   "source": [
    "When the arguments are passed in, they do not need to be referenced with the self parameter, as they are not attributes, but rather temporary variables that the method can use."
   ]
  },
  {
   "cell_type": "code",
   "execution_count": 24,
   "metadata": {},
   "outputs": [
    {
     "name": "stdout",
     "output_type": "stream",
     "text": [
      "6\n"
     ]
    }
   ],
   "source": [
    "# writing methods that accept parameters\n",
    "class Dog():\n",
    "    def showAge(self, age):\n",
    "        print(age) # does not need self, age is referencing the parameter not an attribute\n",
    "sam = Dog()\n",
    "sam.showAge(6)"
   ]
  },
  {
   "cell_type": "markdown",
   "metadata": {},
   "source": [
    "self is in reference to class attributes, not parameters."
   ]
  },
  {
   "cell_type": "markdown",
   "metadata": {},
   "source": [
    "Using setters and getters."
   ]
  },
  {
   "cell_type": "markdown",
   "metadata": {},
   "source": [
    "They are methods that you create to re-declare attribute values and return attribute values. Good practice is to create a method that will alter the attribute value for you and call that method when you need to set a new value. The same goes for when you want to access a given attributes value; instead of accessing it directly, you call a method that will return the value. This gives us a safer way to access an instances attributes."
   ]
  },
  {
   "cell_type": "code",
   "execution_count": 25,
   "metadata": {},
   "outputs": [
    {
     "name": "stdout",
     "output_type": "stream",
     "text": [
      "Sammi\n"
     ]
    }
   ],
   "source": [
    "# using methods to set or return attribute values, proper programming practice\n",
    "class Dog():\n",
    "    name = ' ' # would normally use init method to declare, this is for testing purposes\n",
    "    \n",
    "    def setName(self, new_name):\n",
    "        self.name = new_name # declares the new value for the name attribute\n",
    "    \n",
    "    def getName(self):\n",
    "        return self.name # returns the value of the name attribute\n",
    "sam = Dog()\n",
    "sam.setName(\"Sammi\")\n",
    "print(sam.getName())\n"
   ]
  },
  {
   "cell_type": "markdown",
   "metadata": {},
   "source": [
    "Incrementing attributes with methods."
   ]
  },
  {
   "cell_type": "code",
   "execution_count": 26,
   "metadata": {},
   "outputs": [
    {
     "name": "stdout",
     "output_type": "stream",
     "text": [
      "6\n"
     ]
    }
   ],
   "source": [
    "# incrementing / decrementing attribute values with methods, best programming practice\n",
    "class Dog():\n",
    "    age = 5\n",
    "    \n",
    "    def happyBirthday(self):\n",
    "        self.age += 1\n",
    "sam = Dog()\n",
    "sam.happyBirthday() # calls method to increment value by one\n",
    "print(sam.age) # better practice use getters"
   ]
  },
  {
   "cell_type": "markdown",
   "metadata": {},
   "source": [
    "Methods Caling Methods."
   ]
  },
  {
   "cell_type": "markdown",
   "metadata": {},
   "source": [
    "When calling a method from another method, you need to use the self parameter."
   ]
  },
  {
   "cell_type": "code",
   "execution_count": 27,
   "metadata": {},
   "outputs": [
    {
     "name": "stdout",
     "output_type": "stream",
     "text": [
      "Puppy!\n"
     ]
    }
   ],
   "source": [
    "# calling a class method from another method\n",
    "class Dog():\n",
    "    age = 6\n",
    "    def getAge(self):\n",
    "        return self.age\n",
    "    def printInfo(self):\n",
    "        if self.getAge() < 10: # need self to call other method for an instance\n",
    "            print(\"Puppy!\")\n",
    "sam = Dog()\n",
    "sam.printInfo()"
   ]
  },
  {
   "cell_type": "markdown",
   "metadata": {},
   "source": [
    "Magic Methods."
   ]
  },
  {
   "cell_type": "markdown",
   "metadata": {},
   "source": [
    "Magic method are the underlying of classes in Python. The init method is one. All magic methods have two underscores. When you print out anything, you're accessing a magic method called __str__. When you use +, -, /, *, ==, etc. They are function that decide what operators and other tasks in Python perform. The __str__ magic method is called when using the print function, it stands for the string representation of a class."
   ]
  },
  {
   "cell_type": "code",
   "execution_count": null,
   "metadata": {},
   "outputs": [],
   "source": [
    "# using magic methods\n",
    "class Dog():\n",
    "    def __str__(self):\n",
    "        return \"This is a dog class\"\n",
    "sam = Dog()\n",
    "print(sam) # will print the return of the string magic method"
   ]
  },
  {
   "cell_type": "code",
   "execution_count": 28,
   "metadata": {},
   "outputs": [],
   "source": [
    "# Exercises"
   ]
  },
  {
   "cell_type": "markdown",
   "metadata": {},
   "source": [
    "Inheritance."
   ]
  },
  {
   "cell_type": "markdown",
   "metadata": {},
   "source": [
    "Sometimes you'll create classes that will have similar attributes or methods. Rather than writing the same code several times, we use inheritance. "
   ]
  },
  {
   "cell_type": "markdown",
   "metadata": {},
   "source": [
    "What is inheritance?\n",
    "\n"
   ]
  },
  {
   "cell_type": "markdown",
   "metadata": {},
   "source": [
    "When you have two or more classes that use similar code, you want to set up a superclass. The two classes that will inherit all the code within the superclass are subclasses. For example, parents and their children. The subclass inherits all the attributes and methods within the superclass. "
   ]
  },
  {
   "cell_type": "markdown",
   "metadata": {},
   "source": [
    "Inheriting a Class."
   ]
  },
  {
   "cell_type": "code",
   "execution_count": null,
   "metadata": {},
   "outputs": [],
   "source": [
    "# inheriting a class and accessing the inherited method\n",
    "class Animal():\n",
    "    def makeSound(self):\n",
    "        print(\"roar\")\n",
    "class Dog(Animal): # inheriting Animal class\n",
    "    species = \"Canine\"\n",
    "sam = Dog()\n",
    "sam.makeSound() # accessible through inheritance\n",
    "lion = Animal()\n",
    "# lion.species not accesible, inheritance does not wordk backwards"
   ]
  },
  {
   "cell_type": "markdown",
   "metadata": {},
   "source": [
    "Using the super() method."
   ]
  },
  {
   "cell_type": "markdown",
   "metadata": {},
   "source": [
    "It is used to create forward compatibility when using inheritance. When declaring attributes that are required within the superclass, super is used to initialize its values. The syntax for supr is the keyword super, parenthesis, a dot, the initialization method, and any attributes within the parenthesis of the init call. "
   ]
  },
  {
   "cell_type": "code",
   "execution_count": null,
   "metadata": {},
   "outputs": [],
   "source": [
    "# using the super() method to declare inherited attributes\n",
    "class Animal():\n",
    "    def __init__(self, species):\n",
    "        self.species = species\n",
    "class Dog(Animal):\n",
    "    def __init__(self, species, name):\n",
    "        self.name = name\n",
    "        super().__init__(species) # using super to declare the species attribute defined in Animal\n",
    "sam = Dog(\"Canine\", \"Sammi\")\n",
    "print(sam.species)"
   ]
  },
  {
   "cell_type": "markdown",
   "metadata": {},
   "source": [
    "Once the super method is called, our species attributes value is set to the argument passed in, and we can now access it through our Dog instance, which is why we’re able to output the species on the 9th line."
   ]
  },
  {
   "cell_type": "markdown",
   "metadata": {},
   "source": [
    "Method Overriding."
   ]
  },
  {
   "cell_type": "markdown",
   "metadata": {},
   "source": [
    "Sometimes, you want the subclass to be able to perform a different action when the same mehtod is called. We use the concept of method overriding to change what the method does. Within the subclass, we redefine the method (with the same name) to perform the task differently. Python will always use the method defined within the subclass first, and if one doesn’t exist, then it will check the superclass."
   ]
  },
  {
   "cell_type": "code",
   "execution_count": 29,
   "metadata": {},
   "outputs": [
    {
     "name": "stdout",
     "output_type": "stream",
     "text": [
      "bark\n",
      "roar\n"
     ]
    }
   ],
   "source": [
    "# overriding methods defined in the superclass\n",
    "class Animal():\n",
    "    def makeSound(self):\n",
    "        print(\"roar\")\n",
    "class Dog(Animal):\n",
    "    def makeSound(self):\n",
    "        print(\"bark\")\n",
    "sam, lion = Dog(), Animal() # declaring multiple variables on a single line\n",
    "sam.makeSound( )     # overriding will call the makeSound method in Dog\n",
    "lion.makeSound( )    # no overriding occurs as Animal does not inherit anything"
   ]
  },
  {
   "cell_type": "markdown",
   "metadata": {},
   "source": [
    "Subclasses cannot give superclasses any features."
   ]
  },
  {
   "cell_type": "markdown",
   "metadata": {},
   "source": [
    "Inheriting Multiple Classes"
   ]
  },
  {
   "cell_type": "markdown",
   "metadata": {},
   "source": [
    "The main difference is how you super the attributes. Rather than using the super method, you call the class name directly and pass in the self parameter with the attributes."
   ]
  },
  {
   "cell_type": "code",
   "execution_count": null,
   "metadata": {},
   "outputs": [],
   "source": [
    "# how to inherit multiple classes\n",
    "class Physics():\n",
    "    gravity = 9.8\n",
    "class Automobile():\n",
    "    def __init__(self, make, model, year):\n",
    "        self.make, self.model, self.year = make, model, year\n",
    "        # declaring all attributes on one line\n",
    "class Ford(Physics, Automobile):\n",
    "    def __init__(self, model, year):\n",
    "        Automobile.__init__(self, \"Ford\", model, year) # super does not work with multiple\n",
    "truck = Ford(\"F-150\", 2018)\n",
    "print(truck.gravity, truck.make) # output both attributes"
   ]
  }
 ],
 "metadata": {
  "kernelspec": {
   "display_name": "Python 3",
   "language": "python",
   "name": "python3"
  },
  "language_info": {
   "codemirror_mode": {
    "name": "ipython",
    "version": 3
   },
   "file_extension": ".py",
   "mimetype": "text/x-python",
   "name": "python",
   "nbconvert_exporter": "python",
   "pygments_lexer": "ipython3",
   "version": "3.8.5"
  }
 },
 "nbformat": 4,
 "nbformat_minor": 4
}
